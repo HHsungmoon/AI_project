{
 "cells": [
  {
   "cell_type": "code",
   "execution_count": 16,
   "metadata": {
    "executionInfo": {
     "elapsed": 3,
     "status": "ok",
     "timestamp": 1658915986256,
     "user": {
      "displayName": "홍성문",
      "userId": "10920196976500179177"
     },
     "user_tz": -540
    },
    "id": "yzwSgzihD3rP"
   },
   "outputs": [],
   "source": [
    "import numpy as np\n",
    "import matplotlib.pyplot as plt\n",
    "\n",
    "import torch\n",
    "import torch.nn as nn\n",
    "import torch.nn.functional as F\n",
    "from torchvision import transforms, datasets"
   ]
  },
  {
   "cell_type": "code",
   "execution_count": 17,
   "metadata": {
    "colab": {
     "base_uri": "https://localhost:8080/"
    },
    "executionInfo": {
     "elapsed": 8,
     "status": "ok",
     "timestamp": 1658915988440,
     "user": {
      "displayName": "홍성문",
      "userId": "10920196976500179177"
     },
     "user_tz": -540
    },
    "id": "U3Xf_8iOE04k",
    "outputId": "538509f8-d642-4384-bd6e-ac0e8275ed19"
   },
   "outputs": [
    {
     "name": "stdout",
     "output_type": "stream",
     "text": [
      "Using PyTorch version: 1.12.0+cu113  Device: cuda\n"
     ]
    }
   ],
   "source": [
    "if torch.cuda.is_available():\n",
    "    DEVICE = torch.device('cuda')\n",
    "else:\n",
    "    DEVICE = torch.device('cpu')\n",
    "print('Using PyTorch version:', torch.__version__, ' Device:', DEVICE)"
   ]
  },
  {
   "cell_type": "code",
   "execution_count": 18,
   "metadata": {
    "executionInfo": {
     "elapsed": 3,
     "status": "ok",
     "timestamp": 1658915988440,
     "user": {
      "displayName": "홍성문",
      "userId": "10920196976500179177"
     },
     "user_tz": -540
    },
    "id": "aXraoVn7E0wF"
   },
   "outputs": [],
   "source": [
    "BATCH_SIZE = 32\n",
    "EPOCHS = 10"
   ]
  },
  {
   "cell_type": "code",
   "execution_count": 19,
   "metadata": {
    "colab": {
     "base_uri": "https://localhost:8080/"
    },
    "executionInfo": {
     "elapsed": 1376,
     "status": "ok",
     "timestamp": 1658915989813,
     "user": {
      "displayName": "홍성문",
      "userId": "10920196976500179177"
     },
     "user_tz": -540
    },
    "id": "1mY5ejsyE471",
    "outputId": "fd9629b7-7cae-4af5-ce25-dce010fa5098"
   },
   "outputs": [
    {
     "name": "stdout",
     "output_type": "stream",
     "text": [
      "Files already downloaded and verified\n"
     ]
    }
   ],
   "source": [
    "train_dataset = datasets.CIFAR10(root = \"../data/CIFAR_10\",\n",
    "                                  train = True,\n",
    "                                  download = True,\n",
    "                                  transform = transforms.Compose([\n",
    "                                    transforms.RandomHorizontalFlip(),\n",
    "                                    transforms.ToTensor(),\n",
    "                                    transforms.Normalize((0.5, 0.5, 0.5), (0.5, 0.5, 0.5))]))\n",
    "\n",
    "test_dataset = datasets.CIFAR10(root = \"../data/CIFAR_10\",\n",
    "                                train = False,\n",
    "                                transform = transforms.Compose([\n",
    "                                    transforms.RandomHorizontalFlip(),\n",
    "                                    transforms.ToTensor(),\n",
    "                                    transforms.Normalize((0.5, 0.5, 0.5), (0.5, 0.5, 0.5))]))\n",
    "\n",
    "train_loader = torch.utils.data.DataLoader(dataset = train_dataset,\n",
    "                                            batch_size = BATCH_SIZE,\n",
    "                                            shuffle = True)\n",
    "\n",
    "test_loader = torch.utils.data.DataLoader(dataset = test_dataset,\n",
    "                                          batch_size = BATCH_SIZE,\n",
    "                                          shuffle = False)"
   ]
  },
  {
   "cell_type": "code",
   "execution_count": 20,
   "metadata": {
    "colab": {
     "base_uri": "https://localhost:8080/"
    },
    "executionInfo": {
     "elapsed": 433,
     "status": "ok",
     "timestamp": 1658915990244,
     "user": {
      "displayName": "홍성문",
      "userId": "10920196976500179177"
     },
     "user_tz": -540
    },
    "id": "Ij0chiDREdkE",
    "outputId": "5a59a46f-0f73-4daa-c33a-e35c0a6e3fab"
   },
   "outputs": [
    {
     "name": "stderr",
     "output_type": "stream",
     "text": [
      "/usr/local/lib/python3.7/dist-packages/torchvision/models/_utils.py:209: UserWarning: The parameter 'pretrained' is deprecated since 0.13 and will be removed in 0.15, please use 'weights' instead.\n",
      "  f\"The parameter '{pretrained_param}' is deprecated since 0.13 and will be removed in 0.15, \"\n",
      "/usr/local/lib/python3.7/dist-packages/torchvision/models/_utils.py:223: UserWarning: Arguments other than a weight enum or `None` for 'weights' are deprecated since 0.13 and will be removed in 0.15. The current behavior is equivalent to passing `weights=None`.\n",
      "  warnings.warn(msg)\n"
     ]
    }
   ],
   "source": [
    "import torchvision.models as models\n",
    "model = models.resnet34(pretrained = False)\n",
    "num_ftrs = model.fc.in_features\n",
    "model.fc = nn.Linear(num_ftrs, 10)\n",
    "modes = model.cuda()"
   ]
  },
  {
   "cell_type": "code",
   "execution_count": null,
   "metadata": {
    "id": "VOIUZBKKF8d0"
   },
   "outputs": [],
   "source": [
    "#optimizer = torch.optim.SGD(model.parameters(), lr = 0.01, momentum = 0.5)\n",
    "optimizer = torch.optim.Adam(model.parameters(), lr = 0.001)   \n",
    "criterion = nn.CrossEntropyLoss()\n",
    "\n",
    "print(model)\n"
   ]
  },
  {
   "cell_type": "code",
   "execution_count": 22,
   "metadata": {
    "executionInfo": {
     "elapsed": 3,
     "status": "ok",
     "timestamp": 1658915990244,
     "user": {
      "displayName": "홍성문",
      "userId": "10920196976500179177"
     },
     "user_tz": -540
    },
    "id": "C4_Rt6jEFgcc"
   },
   "outputs": [],
   "source": [
    "def train(model, train_loader, optimizer,log_interval):\n",
    "  model.train()\n",
    "  for batch_idx, (image, label) in enumerate(train_loader):\n",
    "    image = image.to(DEVICE)\n",
    "    label = label.to(DEVICE)\n",
    "    optimizer.zero_grad()\n",
    "    output = model(image)\n",
    "    loss = criterion(output, label)\n",
    "    loss.backward()\n",
    "    optimizer.step()"
   ]
  },
  {
   "cell_type": "code",
   "execution_count": 23,
   "metadata": {
    "executionInfo": {
     "elapsed": 3,
     "status": "ok",
     "timestamp": 1658915990245,
     "user": {
      "displayName": "홍성문",
      "userId": "10920196976500179177"
     },
     "user_tz": -540
    },
    "id": "nWzbeX3zFf9c"
   },
   "outputs": [],
   "source": [
    "def evaluate(model, test_loader):\n",
    "  model.eval()\n",
    "  test_loss = 0\n",
    "  correct = 0\n",
    "\n",
    "  with torch.no_grad():\n",
    "    for image, label in test_loader:\n",
    "      image = image.to(DEVICE)\n",
    "      label = label.to(DEVICE)\n",
    "      output = model(image)\n",
    "      test_loss += criterion(output, label).item()\n",
    "      prediction = output.max(1, keepdim = True)[1]\n",
    "      correct += prediction.eq(label.view_as(prediction)).sum().item()\n",
    "    test_loss /= len(test_loader.dataset)\n",
    "    test_accuracy = 100. * correct / len(test_loader.dataset)\n",
    "    return test_loss, test_accuracy"
   ]
  },
  {
   "cell_type": "code",
   "execution_count": 24,
   "metadata": {
    "colab": {
     "base_uri": "https://localhost:8080/"
    },
    "executionInfo": {
     "elapsed": 574922,
     "status": "ok",
     "timestamp": 1658916565164,
     "user": {
      "displayName": "홍성문",
      "userId": "10920196976500179177"
     },
     "user_tz": -540
    },
    "id": "TeutLazzFJ_z",
    "outputId": "0bdb9dfb-0806-4725-b504-a888c001e72e"
   },
   "outputs": [
    {
     "name": "stdout",
     "output_type": "stream",
     "text": [
      "[EPOCH: 1], \tTest Loss: 0.0389, \tTest Accuracy: 56.40 %\n",
      "\n",
      "[EPOCH: 2], \tTest Loss: 0.0349, \tTest Accuracy: 62.92 %\n",
      "\n",
      "[EPOCH: 3], \tTest Loss: 0.0270, \tTest Accuracy: 70.45 %\n",
      "\n",
      "[EPOCH: 4], \tTest Loss: 0.0249, \tTest Accuracy: 72.78 %\n",
      "\n",
      "[EPOCH: 5], \tTest Loss: 0.0223, \tTest Accuracy: 75.28 %\n",
      "\n",
      "[EPOCH: 6], \tTest Loss: 0.0229, \tTest Accuracy: 74.72 %\n",
      "\n",
      "[EPOCH: 7], \tTest Loss: 0.0223, \tTest Accuracy: 75.71 %\n",
      "\n",
      "[EPOCH: 8], \tTest Loss: 0.0197, \tTest Accuracy: 78.85 %\n",
      "\n",
      "[EPOCH: 9], \tTest Loss: 0.0204, \tTest Accuracy: 77.81 %\n",
      "\n",
      "[EPOCH: 10], \tTest Loss: 0.0207, \tTest Accuracy: 78.12 %\n",
      "\n"
     ]
    }
   ],
   "source": [
    "for Epoch in range(1, EPOCHS+1):\n",
    "  train(model, train_loader, optimizer,log_interval = 200)\n",
    "  test_loss, test_accuracy = evaluate(model, test_loader)\n",
    "  print(\"[EPOCH: {}], \\tTest Loss: {:.4f}, \\tTest Accuracy: {:.2f} %\\n\".format(Epoch,test_loss, test_accuracy))"
   ]
  },
  {
   "cell_type": "markdown",
   "metadata": {
    "id": "zt54yjGhIusj"
   },
   "source": [
    "현재 변화된 부분은 'Resnet_CNN_pytorch' 코드에서 모델 구현 부분만 있음\n",
    "\n",
    "1.기존 구현 코드에서 class ResNet이 아닌, torchvision.models의 resnet34를 model에 집어넣어 학습시킴. 기존보다 정확도가 떨어지는 현상이 보이고, 이를 보완할 방법으로 Transfer Learning을 찾음.\n",
    "\n",
    "2.학습 진행 속도가 기존 class ResNet보다 많이 느림. 왜그런지 궁금함\n"
   ]
  }
 ],
 "metadata": {
  "accelerator": "GPU",
  "colab": {
   "authorship_tag": "ABX9TyM86EYYtVLb5FqtJISPz5Py",
   "collapsed_sections": [],
   "name": "Torchvision.Models",
   "provenance": []
  },
  "gpuClass": "standard",
  "kernelspec": {
   "display_name": "Python 3",
   "language": "python",
   "name": "python3"
  },
  "language_info": {
   "codemirror_mode": {
    "name": "ipython",
    "version": 3
   },
   "file_extension": ".py",
   "mimetype": "text/x-python",
   "name": "python",
   "nbconvert_exporter": "python",
   "pygments_lexer": "ipython3",
   "version": "3.8.5"
  }
 },
 "nbformat": 4,
 "nbformat_minor": 1
}
