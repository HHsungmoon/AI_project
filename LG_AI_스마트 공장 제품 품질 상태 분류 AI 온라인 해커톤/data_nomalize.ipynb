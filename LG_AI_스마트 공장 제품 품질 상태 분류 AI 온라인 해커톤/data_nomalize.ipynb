{
 "cells": [
  {
   "cell_type": "code",
   "execution_count": 2,
   "metadata": {},
   "outputs": [],
   "source": [
    "import pandas as pd\n",
    "import numpy as np\n",
    "from sklearn.preprocessing import LabelEncoder"
   ]
  },
  {
   "cell_type": "code",
   "execution_count": 3,
   "metadata": {},
   "outputs": [],
   "source": [
    "train_df = pd.read_csv(\"./train.csv\")\n",
    "test_df = pd.read_csv('./test.csv')\n",
    "\n",
    "train_x = train_df.drop(columns=['PRODUCT_ID', 'TIMESTAMP', 'Y_Quality'])\n",
    "\n",
    "test_x = test_df.drop(columns=['PRODUCT_ID', 'TIMESTAMP'])"
   ]
  },
  {
   "cell_type": "code",
   "execution_count": 4,
   "metadata": {},
   "outputs": [
    {
     "name": "stdout",
     "output_type": "stream",
     "text": [
      "Done.\n"
     ]
    }
   ],
   "source": [
    "qual_col = ['LINE', 'PRODUCT_CODE']\n",
    "\n",
    "for i in qual_col:\n",
    "    le = LabelEncoder()\n",
    "    le = le.fit(train_x[i])\n",
    "    train_x[i] = le.transform(train_x[i])\n",
    "    \n",
    "    for label in np.unique(test_x[i]): \n",
    "        if label not in le.classes_: \n",
    "            le.classes_ = np.append(le.classes_, label)\n",
    "    test_x[i] = le.transform(test_x[i])\n",
    "print('Done.')"
   ]
  },
  {
   "cell_type": "code",
   "execution_count": 5,
   "metadata": {},
   "outputs": [
    {
     "name": "stdout",
     "output_type": "stream",
     "text": [
      "Index(['Y_Class', 'LINE', 'PRODUCT_CODE'], dtype='object')\n",
      "Index(['LINE', 'PRODUCT_CODE'], dtype='object')\n"
     ]
    }
   ],
   "source": [
    "print(train_x.columns[0:3])\n",
    "print(test_x.columns[0:2])"
   ]
  },
  {
   "cell_type": "code",
   "execution_count": 6,
   "metadata": {},
   "outputs": [],
   "source": [
    "train_cols_to_normalize = train_x.columns[3:]\n",
    "test_cols_to_normalize = test_x.columns[2:]\n",
    "\n",
    "for col in train_cols_to_normalize:\n",
    "    mean = train_x[col].mean()\n",
    "    if np.isnan(mean):\n",
    "        mean = 0\n",
    "        \n",
    "    std = train_x[col].std()\n",
    "    if np.isnan(std):\n",
    "        std = 1\n",
    "        \n",
    "    train_x[col] = (train_x[col] - mean) / std\n",
    "    test_x[col] = (test_x[col] - mean) / std\n",
    "    \n",
    "    "
   ]
  },
  {
   "cell_type": "code",
   "execution_count": 7,
   "metadata": {},
   "outputs": [],
   "source": [
    "train_df_norm = train_x.fillna(0)\n",
    "test_df_norm = test_x.fillna(0)"
   ]
  },
  {
   "cell_type": "code",
   "execution_count": 8,
   "metadata": {},
   "outputs": [],
   "source": [
    "train_df_norm.to_csv(\"normalized_train.csv\",index=False)\n",
    "test_df_norm.to_csv(\"normalized_test.csv\", index=False)"
   ]
  },
  {
   "cell_type": "code",
   "execution_count": 14,
   "metadata": {},
   "outputs": [
    {
     "name": "stdout",
     "output_type": "stream",
     "text": [
      "Class counts:\n",
      "Class 1: 407\n",
      "Class 2: 103\n",
      "Class 0: 88\n"
     ]
    }
   ],
   "source": [
    "class_counts = train_df_norm['Y_Class'].value_counts()\n",
    "print(\"Class counts:\")\n",
    "for cls, count in class_counts.items():\n",
    "    print(f\"Class {cls}: {count}\")"
   ]
  },
  {
   "cell_type": "code",
   "execution_count": null,
   "metadata": {},
   "outputs": [],
   "source": []
  }
 ],
 "metadata": {
  "kernelspec": {
   "display_name": "base",
   "language": "python",
   "name": "python3"
  },
  "language_info": {
   "codemirror_mode": {
    "name": "ipython",
    "version": 3
   },
   "file_extension": ".py",
   "mimetype": "text/x-python",
   "name": "python",
   "nbconvert_exporter": "python",
   "pygments_lexer": "ipython3",
   "version": "3.8.5"
  },
  "orig_nbformat": 4,
  "vscode": {
   "interpreter": {
    "hash": "2356e43c43ecac1baee1a0eb34b5c254a3f87ed4359e6f3761b66aa12c9e45f3"
   }
  }
 },
 "nbformat": 4,
 "nbformat_minor": 2
}
