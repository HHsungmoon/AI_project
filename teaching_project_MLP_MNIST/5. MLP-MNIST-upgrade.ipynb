{
 "cells": [
  {
   "cell_type": "code",
   "execution_count": 1,
   "metadata": {},
   "outputs": [],
   "source": [
    "import torch\n",
    "import torch.nn as nn  # 뉴럴 네트워크 - 모델 클래스를 만드는데 쓴다.\n",
    "import torch.nn.functional as F   #활성화함수 시그모이드, 함수 소프트맥스가 들어있다.\n",
    "\n",
    "import numpy as np\n",
    "import matplotlib.pyplot as plt\n",
    "\n",
    "from torchvision import transforms, datasets   # 컴퓨터 비젼 분야에서 많이 쓴다."
   ]
  },
  {
   "cell_type": "code",
   "execution_count": 2,
   "metadata": {},
   "outputs": [
    {
     "name": "stdout",
     "output_type": "stream",
     "text": [
      "cuda\n"
     ]
    }
   ],
   "source": [
    "# GPU를 사용하기 위해서\n",
    "if torch.cuda.is_available():\n",
    "    DEVICE = torch.device('cuda')\n",
    "else:\n",
    "    DEVICE = torch.device('cpu')\n",
    "    \n",
    "print(DEVICE)"
   ]
  },
  {
   "cell_type": "code",
   "execution_count": 3,
   "metadata": {},
   "outputs": [],
   "source": [
    "BATCH_SIZE = 32\n",
    "EPOCHS = 30"
   ]
  },
  {
   "cell_type": "code",
   "execution_count": 4,
   "metadata": {},
   "outputs": [],
   "source": [
    "transform_setting = transforms.Compose([transforms.ToTensor()])\n",
    "\n",
    "train_dataset = datasets.MNIST(root=\"../data/MNIST\", train = True, download=True,transform=transform_setting)\n",
    "test_dataset = datasets.MNIST(root=\"../data/MNIST\", train=False, transform=transform_setting)\n",
    "\n",
    "train_loader = torch.utils.data.DataLoader(dataset=train_dataset, batch_size = BATCH_SIZE, shuffle = True)\n",
    "test_loader = torch.utils.data.DataLoader(dataset=test_dataset, batch_size = BATCH_SIZE, shuffle = False)"
   ]
  },
  {
   "cell_type": "code",
   "execution_count": 5,
   "metadata": {},
   "outputs": [
    {
     "name": "stdout",
     "output_type": "stream",
     "text": [
      "torch.Size([32, 1, 28, 28]) ,  torch.FloatTensor\n",
      "torch.Size([32]) ,  torch.LongTensor\n"
     ]
    }
   ],
   "source": [
    "# 데이터 확인해 보기\n",
    "for X_train, Y_train in train_loader:\n",
    "    print(X_train.size(), \", \" , X_train.type())\n",
    "    print(Y_train.size(), \", \" , Y_train.type())\n",
    "    break\n",
    "    \n",
    "# 28*28크기에 kernal이 1인 이미지 32개가 하나의 미니배치를 구성한다."
   ]
  },
  {
   "cell_type": "code",
   "execution_count": 6,
   "metadata": {},
   "outputs": [
    {
     "data": {
      "image/png": "[encoded data removed]",
      "text/plain": [
       "<Figure size 720x72 with 10 Axes>"
      ]
     },
     "metadata": {
      "needs_background": "light"
     },
     "output_type": "display_data"
    }
   ],
   "source": [
    "pltsize = 1\n",
    "plt.figure(figsize=(10*pltsize, pltsize))\n",
    "for i in range(10):\n",
    "    plt.subplot(1,10,i+1)\n",
    "    plt.axis('off')\n",
    "    plt.imshow(X_train[i,:,:,:].numpy().reshape(28,28), cmap=\"gray_r\")"
   ]
  },
  {
   "cell_type": "code",
   "execution_count": 12,
   "metadata": {},
   "outputs": [],
   "source": [
    "# 모델 설계\n",
    "\n",
    "class MLP_model(nn.Module):    # nn.Module 클래스를 상속 받는다.(딥러닝과 관련된 기본 함수들을 쓰기 위해)\n",
    "    def __init__(self):\n",
    "        super(MLP_model,self).__init__()    # 상속작업후, 은닉층에 해당하는 layer를 설정해 준다(하이퍼 파라미터)\n",
    "        self.layer1 = nn.Linear(1*28*28, 512)  # nn.Linear함수는 저장된 가중치와 편향을 사용하여 입력을 선형변환해 주는 모듈\n",
    "        self.layer2 = nn.Linear(512, 256)\n",
    "        self.layer3 = nn.Linear(256, 10)  # 시작과 끝을 잘 봐야한다!!\n",
    "        \n",
    "        self.dropout = 0.2 # 에포크 마다 랜덤하게 20% 노드를 droupout한다.\n",
    "        \n",
    "        # nn.Sequential() 을 이용한 layer 묶기 설명\n",
    "        \n",
    "    def forward(self, x):\n",
    "        x = x.view(-1,1*28*28)\n",
    "        x = self.layer1(x)\n",
    "        #x = F.sigmoid(x)\n",
    "        x = F.relu(x)\n",
    "        x = F.dropout(x, training = self.training, p = self.dropout)  #traing 부분은 train에서는 실행, test에서는 사용 안하기 위해서\n",
    "        x = self.layer2(x)\n",
    "        #x = F.sigmoid(x)\n",
    "        x = F.relu(x)\n",
    "        x = F.dropout(x, training = self.training, p = self.dropout)\n",
    "        x = self.layer3(x)\n",
    "        x = F.log_softmax(x, dim=1)\n",
    "        \n",
    "        return x\n"
   ]
  },
  {
   "cell_type": "code",
   "execution_count": 13,
   "metadata": {},
   "outputs": [],
   "source": [
    "model = MLP_model().to(DEVICE)\n",
    "#optimizer = torch.optim.SGD(model.parameters(), lr = 0.01, momentum=0.5) # 옵티마이저=최적화 함수 를 SGD로 설정\n",
    "loss_func = nn.CrossEntropyLoss()  # 손실함수를 크로스엔트로피 손실함수로 설정 -> 로지스틱 손실함수때 나왔다!!\n",
    "\n",
    "optimizer = torch.optim.Adam(model.parameters(), lr = 0.01)"
   ]
  },
  {
   "cell_type": "code",
   "execution_count": 14,
   "metadata": {},
   "outputs": [],
   "source": [
    "\"\"\"\n",
    "train 순서\n",
    "1. 옵티마이저 초기화 \n",
    "2. output 값을 추출 -> image를 모델에 넣어 은닉층을 거쳐서 z값을 뽑아냄\n",
    "3. loss 값을 뽑아낸다.\n",
    "4. loss값으로 역전파 수행\n",
    "5. 옵티마이저 진행 -> 경사하강법으로 적절히 이동\n",
    "\"\"\"\n",
    "\n",
    "def train(model, train_loader, optimizer, log_interval):\n",
    "    model.train()  #기존에 정의한 MLP 모델을 '학습상태' 로 지정한다.\n",
    "    for batch_idx, (image, label) in enumerate(train_loader):   # enumerate설명 \n",
    "        image = image.to(DEVICE)\n",
    "        label = label.to(DEVICE)\n",
    "        \n",
    "        optimizer.zero_grad()\n",
    "        output = model(image)\n",
    "        \n",
    "        loss = loss_func(output, label)\n",
    "        loss.backward()\n",
    "        \n",
    "        optimizer.step()"
   ]
  },
  {
   "cell_type": "code",
   "execution_count": 15,
   "metadata": {},
   "outputs": [],
   "source": [
    "def evaluate(model, test_loader):\n",
    "    model.eval()\n",
    "    test_loss = 0\n",
    "    correct = 0\n",
    "    \n",
    "    with torch.no_grad():\n",
    "        for image, label in test_loader:\n",
    "            image = image.to(DEVICE)\n",
    "            label = label.to(DEVICE)\n",
    "            \n",
    "            output = model(image)\n",
    "            test_loss += loss_func(output, label).item()\n",
    "            prediction = output.max(1, keepdim = True)[1]\n",
    "            correct += prediction.eq(label.view_as(prediction)).sum().item()\n",
    "            \n",
    "        test_loss /= len(test_loader.dataset)\n",
    "        test_accuracy = 100. *correct/len(test_loader.dataset)\n",
    "        return test_loss, test_accuracy"
   ]
  },
  {
   "cell_type": "code",
   "execution_count": 16,
   "metadata": {},
   "outputs": [
    {
     "name": "stdout",
     "output_type": "stream",
     "text": [
      "\n",
      "[Epoch: 1],  test_loss: 0.009751455055177211    accuracy: 91.28%\n",
      "\n",
      "[Epoch: 2],  test_loss: 0.0068607915395405145    accuracy: 93.61%\n",
      "\n",
      "[Epoch: 3],  test_loss: 0.005396268725185655    accuracy: 94.85%\n",
      "\n",
      "[Epoch: 4],  test_loss: 0.004452006072539371    accuracy: 95.65%\n",
      "\n",
      "[Epoch: 5],  test_loss: 0.003765117732214276    accuracy: 96.25%\n",
      "\n",
      "[Epoch: 6],  test_loss: 0.0032785067806195    accuracy: 96.82%\n",
      "\n",
      "[Epoch: 7],  test_loss: 0.002957085181819275    accuracy: 96.98%\n",
      "\n",
      "[Epoch: 8],  test_loss: 0.002780039426009171    accuracy: 97.27%\n",
      "\n",
      "[Epoch: 9],  test_loss: 0.0025288449851417682    accuracy: 97.46%\n",
      "\n",
      "[Epoch: 10],  test_loss: 0.0023898702631064226    accuracy: 97.56%\n",
      "\n",
      "[Epoch: 11],  test_loss: 0.0022797252841293813    accuracy: 97.81%\n",
      "\n",
      "[Epoch: 12],  test_loss: 0.0022425745632644978    accuracy: 97.74%\n",
      "\n",
      "[Epoch: 13],  test_loss: 0.002113379146489024    accuracy: 97.84%\n",
      "\n",
      "[Epoch: 14],  test_loss: 0.0021213719390652842    accuracy: 97.96%\n",
      "\n",
      "[Epoch: 15],  test_loss: 0.0019695457566791448    accuracy: 97.94%\n",
      "\n",
      "[Epoch: 16],  test_loss: 0.0018705054285848746    accuracy: 98.17%\n",
      "\n",
      "[Epoch: 17],  test_loss: 0.0019116538402522566    accuracy: 98.16%\n",
      "\n",
      "[Epoch: 18],  test_loss: 0.0018662778697274916    accuracy: 98.02%\n",
      "\n",
      "[Epoch: 19],  test_loss: 0.0018166019828240677    accuracy: 98.15%\n",
      "\n",
      "[Epoch: 20],  test_loss: 0.0017927149951872706    accuracy: 98.18%\n",
      "\n",
      "[Epoch: 21],  test_loss: 0.0017289039548017172    accuracy: 98.22%\n",
      "\n",
      "[Epoch: 22],  test_loss: 0.0017481247681767854    accuracy: 98.22%\n",
      "\n",
      "[Epoch: 23],  test_loss: 0.0017447120801793062    accuracy: 98.24%\n",
      "\n",
      "[Epoch: 24],  test_loss: 0.0017671984717890154    accuracy: 98.27%\n",
      "\n",
      "[Epoch: 25],  test_loss: 0.0017419176074530696    accuracy: 98.25%\n",
      "\n",
      "[Epoch: 26],  test_loss: 0.0016820667349760697    accuracy: 98.32%\n",
      "\n",
      "[Epoch: 27],  test_loss: 0.0016873252754117858    accuracy: 98.30%\n",
      "\n",
      "[Epoch: 28],  test_loss: 0.001717082055292849    accuracy: 98.27%\n",
      "\n",
      "[Epoch: 29],  test_loss: 0.0016438250057799451    accuracy: 98.32%\n",
      "\n",
      "[Epoch: 30],  test_loss: 0.0016984042342608517    accuracy: 98.26%\n"
     ]
    }
   ],
   "source": [
    "for Epoch in range(1, EPOCHS+1):\n",
    "    train(model, train_loader, optimizer, 200)\n",
    "    test_loss, test_accuracy = evaluate(model, test_loader)\n",
    "    print(\"\\n[Epoch: {}],  test_loss: {}    accuracy: {:.2f}%\".format(Epoch, test_loss, test_accuracy))"
   ]
  },
  {
   "cell_type": "code",
   "execution_count": null,
   "metadata": {},
   "outputs": [],
   "source": []
  }
 ],
 "metadata": {
  "kernelspec": {
   "display_name": "Python 3",
   "language": "python",
   "name": "python3"
  },
  "language_info": {
   "codemirror_mode": {
    "name": "ipython",
    "version": 3
   },
   "file_extension": ".py",
   "mimetype": "text/x-python",
   "name": "python",
   "nbconvert_exporter": "python",
   "pygments_lexer": "ipython3",
   "version": "3.8.5"
  }
 },
 "nbformat": 4,
 "nbformat_minor": 4
}
