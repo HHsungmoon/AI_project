{
 "cells": [
  {
   "cell_type": "code",
   "execution_count": 1,
   "metadata": {},
   "outputs": [],
   "source": [
    "import torch\n",
    "import torch.nn as nn\n",
    "import torch.nn.functional as F\n",
    "import torch.optim as optim\n",
    "import pandas as pd\n",
    "import copy\n",
    "import matplotlib.pyplot as plt\n",
    "\n",
    "from torch.utils.data import DataLoader, Dataset"
   ]
  },
  {
   "cell_type": "code",
   "execution_count": 2,
   "metadata": {},
   "outputs": [
    {
     "name": "stdout",
     "output_type": "stream",
     "text": [
      "cuda\n"
     ]
    }
   ],
   "source": [
    "if torch.cuda.is_available():\n",
    "    DEVICE = torch.device('cuda')\n",
    "else:\n",
    "    DEVICE = torch.device('cpu')\n",
    "    \n",
    "print(DEVICE)"
   ]
  },
  {
   "cell_type": "code",
   "execution_count": 3,
   "metadata": {},
   "outputs": [],
   "source": [
    "train_df = pd.read_csv(\"./normalized_train.csv\")\n",
    "\n",
    "train_df_typeA = train_df[train_df[\"PRODUCT_CODE\"] == 0]\n",
    "train_df_typeTO = train_df[train_df[\"PRODUCT_CODE\"] != 0]\n",
    "\n",
    "train_df_typeA =train_df.drop(columns=[\"LINE\"])\n",
    "train_df_typeTO =train_df.drop(columns=[\"LINE\"])\n",
    "\n",
    "train_typeA_tensor = torch.tensor(train_df_typeA.values).float()\n",
    "train_typeTO_tensor = torch.tensor(train_df_typeTO.values).float()\n",
    "\n",
    "test_df = pd.read_csv(\"./normalized_test.csv\")\n",
    "test_df = test_df.drop(columns=[\"LINE\"])\n",
    "test_tensor = torch.tensor(test_df.values).float()"
   ]
  },
  {
   "cell_type": "code",
   "execution_count": 4,
   "metadata": {},
   "outputs": [],
   "source": [
    "class CustomDataset(torch.utils.data.Dataset):\n",
    "    def __init__(self, data):\n",
    "        self.data = data\n",
    "        \n",
    "    def __getitem__(self, index):\n",
    "        x = self.data[index][1:]\n",
    "        y = self.data[index][0].long()\n",
    "        return x, y\n",
    "    \n",
    "    def __len__(self):\n",
    "        return len(self.data)"
   ]
  },
  {
   "cell_type": "code",
   "execution_count": 5,
   "metadata": {},
   "outputs": [],
   "source": [
    "class TestDataset(torch.utils.data.Dataset):\n",
    "    def __init__(self, data):\n",
    "        self.data = data\n",
    "        \n",
    "    def __getitem__(self, index):\n",
    "        x = self.data[index]\n",
    "        return x\n",
    "    \n",
    "    def __len__(self):\n",
    "        return len(self.data)"
   ]
  },
  {
   "cell_type": "code",
   "execution_count": 6,
   "metadata": {},
   "outputs": [],
   "source": [
    "train_typeA_dataset = CustomDataset(train_typeA_tensor)\n",
    "train_typeA_loader = DataLoader(train_typeA_dataset, batch_size=16, shuffle=True)\n",
    "\n",
    "train_typeTO_dataset = CustomDataset(train_typeA_tensor)\n",
    "train_typeTO_loader = DataLoader(train_typeTO_dataset, batch_size=16, shuffle=True)\n",
    "\n",
    "test_dataset = TestDataset(test_tensor)\n",
    "test_loader = DataLoader(test_dataset, batch_size=1, shuffle=False)"
   ]
  },
  {
   "cell_type": "code",
   "execution_count": 7,
   "metadata": {},
   "outputs": [
    {
     "name": "stdout",
     "output_type": "stream",
     "text": [
      "torch.Size([16, 2876])\n",
      "torch.Size([16])\n"
     ]
    }
   ],
   "source": [
    "for x,y in train_typeA_loader:\n",
    "    print(x.shape)\n",
    "    print(y.shape)\n",
    "    break;"
   ]
  },
  {
   "cell_type": "code",
   "execution_count": 8,
   "metadata": {},
   "outputs": [],
   "source": [
    "class MLP_typeA(nn.Module):\n",
    "    def __init__(self, in_channels, out_channels):\n",
    "        super(MLP_typeA, self).__init__()\n",
    "        self.in_channels = in_channels\n",
    "        self.layer1 = nn.Linear(in_channels, 512)\n",
    "        self.layer2 = nn.Linear(512, 64)\n",
    "        self.layer3 = nn.Linear(64, 3)\n",
    "        \n",
    "        self.dropout_prob = 0.2\n",
    "        \n",
    "    def forward(self, x):\n",
    "        x = x.view(-1, self.in_channels)\n",
    "        x = self.layer1(x)\n",
    "        x = F.dropout(x, training=self.training,p=self.dropout_prob)\n",
    "        x = F.selu(x)\n",
    "        x = self.layer2(x)\n",
    "        x = F.dropout(x, training=self.training,p=self.dropout_prob)\n",
    "        x = F.selu(x)\n",
    "        x = self.layer3(x)\n",
    "        x = F.log_softmax(x,dim=1)\n",
    "        return x\n",
    "    \n",
    "class MLP_typeTO(nn.Module):\n",
    "    def __init__(self, in_channels, out_channels):\n",
    "        super(MLP_typeTO, self).__init__()\n",
    "        self.in_channels = in_channels\n",
    "        self.layer1 = nn.Linear(in_channels, 512)\n",
    "        self.layer2 = nn.Linear(512, 32)\n",
    "        self.layer3 = nn.Linear(32, 3)\n",
    "        \n",
    "        self.dropout_prob = 0.2\n",
    "    \n",
    "    def forward(self, x):\n",
    "        x = x.view(-1, self.in_channels)\n",
    "        x = self.layer1(x)\n",
    "        x = F.dropout(x, training=self.training,p=self.dropout_prob)\n",
    "        x = F.selu(x)\n",
    "        x = self.layer2(x)\n",
    "        x = F.dropout(x, training=self.training,p=self.dropout_prob)\n",
    "        x = F.selu(x)\n",
    "        x = self.layer3(x)\n",
    "        x = F.log_softmax(x,dim=1)\n",
    "        return x    "
   ]
  },
  {
   "cell_type": "code",
   "execution_count": 9,
   "metadata": {},
   "outputs": [],
   "source": [
    "# 클래스 가중치 계산\n",
    "class_weights = [1.0,4.0,1.1] # 모든 클래스에 대해 1.0으로 초기화\n",
    "class_weights = torch.FloatTensor(class_weights)"
   ]
  },
  {
   "cell_type": "code",
   "execution_count": 10,
   "metadata": {},
   "outputs": [],
   "source": [
    "model_typeA = MLP_typeA(2876,3).to(DEVICE)\n",
    "loss_func = nn.CrossEntropyLoss(weight=class_weights).to(DEVICE)\n",
    "optimizer = optim.Adam(model_typeA.parameters(), lr=0.001, weight_decay=0)"
   ]
  },
  {
   "cell_type": "code",
   "execution_count": 11,
   "metadata": {},
   "outputs": [],
   "source": [
    "def train(model, train_dataset):\n",
    "    model.train()\n",
    "    for data,target in train_dataset:\n",
    "        optimizer.zero_grad()\n",
    "        \n",
    "        data = data.to(DEVICE)\n",
    "        target = target.to(DEVICE)\n",
    "        \n",
    "        output = model(data).to(DEVICE)\n",
    "        loss = loss_func(output, target)\n",
    "        loss.backward()\n",
    "        \n",
    "        optimizer.step()"
   ]
  },
  {
   "cell_type": "code",
   "execution_count": 12,
   "metadata": {},
   "outputs": [],
   "source": [
    "def evaluate(model, loader):\n",
    "    model.eval()\n",
    "    test_loss = 0\n",
    "    correct = 0\n",
    "    \n",
    "    with torch.no_grad():\n",
    "        for data, target in loader:\n",
    "            data = data.to(DEVICE)\n",
    "            target = target.to(DEVICE)\n",
    "            output = model(data)\n",
    "            test_loss += loss_func(output, target).item()\n",
    "            \n",
    "            pred = output.max(1, keepdim=True)[1]\n",
    "            correct += pred.eq(target.view_as(pred)).sum().item()\n",
    "            \n",
    "    test_loss /= len(loader.dataset)\n",
    "    test_accuracy = 100. * correct / len(loader.dataset)\n",
    "    return test_loss, test_accuracy"
   ]
  },
  {
   "cell_type": "code",
   "execution_count": 13,
   "metadata": {},
   "outputs": [
    {
     "name": "stdout",
     "output_type": "stream",
     "text": [
      "EPOCH[0] - train Loss: 0.0221, Accuracy: 73.7458%\n",
      "EPOCH[1] - train Loss: 0.0180, Accuracy: 76.2542%\n",
      "EPOCH[2] - train Loss: 0.0129, Accuracy: 81.9398%\n",
      "EPOCH[3] - train Loss: 0.0120, Accuracy: 87.2910%\n",
      "EPOCH[4] - train Loss: 0.0087, Accuracy: 88.9632%\n",
      "EPOCH[5] - train Loss: 0.0081, Accuracy: 89.2977%\n",
      "EPOCH[6] - train Loss: 0.0082, Accuracy: 89.9666%\n",
      "EPOCH[7] - train Loss: 0.0059, Accuracy: 91.9732%\n",
      "EPOCH[8] - train Loss: 0.0169, Accuracy: 86.7893%\n",
      "EPOCH[9] - train Loss: 0.0054, Accuracy: 92.4749%\n",
      "EPOCH[10] - train Loss: 0.0054, Accuracy: 92.9766%\n",
      "EPOCH[11] - train Loss: 0.0028, Accuracy: 95.8194%\n",
      "EPOCH[12] - train Loss: 0.0023, Accuracy: 96.4883%\n",
      "EPOCH[13] - train Loss: 0.0035, Accuracy: 96.9900%\n",
      "EPOCH[14] - train Loss: 0.0020, Accuracy: 97.6589%\n",
      "EPOCH[15] - train Loss: 0.0013, Accuracy: 98.4950%\n",
      "EPOCH[16] - train Loss: 0.0075, Accuracy: 94.6488%\n",
      "EPOCH[17] - train Loss: 0.0103, Accuracy: 91.8060%\n",
      "EPOCH[18] - train Loss: 0.0020, Accuracy: 96.6555%\n",
      "EPOCH[19] - train Loss: 0.0029, Accuracy: 96.1538%\n",
      "EPOCH[20] - train Loss: 0.0010, Accuracy: 98.9967%\n",
      "EPOCH[21] - train Loss: 0.0008, Accuracy: 99.1639%\n",
      "EPOCH[22] - train Loss: 0.0004, Accuracy: 99.8328%\n",
      "EPOCH[23] - train Loss: 0.0018, Accuracy: 97.3244%\n",
      "EPOCH[24] - train Loss: 0.0024, Accuracy: 96.1538%\n",
      "EPOCH[25] - train Loss: 0.0044, Accuracy: 96.9900%\n",
      "EPOCH[26] - train Loss: 0.0017, Accuracy: 97.4916%\n",
      "EPOCH[27] - train Loss: 0.0018, Accuracy: 98.3278%\n",
      "EPOCH[28] - train Loss: 0.0007, Accuracy: 98.4950%\n",
      "EPOCH[29] - train Loss: 0.0004, Accuracy: 99.6656%\n"
     ]
    },
    {
     "data": {
      "text/plain": [
       "<All keys matched successfully>"
      ]
     },
     "execution_count": 13,
     "metadata": {},
     "output_type": "execute_result"
    }
   ],
   "source": [
    "typeA_loss_list = []\n",
    "typeA_best_acc = 0.0  \n",
    "typeA_best_model_wts = copy.deepcopy(model_typeA.state_dict()) \n",
    "\n",
    "for epoch in range(30):\n",
    "    train(model_typeA, train_typeA_loader)\n",
    "    \n",
    "    train_loss, train_acc = evaluate(model_typeA,train_typeA_loader)\n",
    "    typeA_loss_list.append(train_loss)    \n",
    "    \n",
    "    if train_acc >= typeA_best_acc: \n",
    "            typeA_best_acc = train_acc \n",
    "            typeA_best_model_wts = copy.deepcopy(model_typeA.state_dict())\n",
    "    \n",
    "    print('EPOCH[{:d}] - train Loss: {:.4f}, Accuracy: {:.4f}%'.format(epoch, train_loss, train_acc)) \n",
    "    \n",
    "model_typeA.load_state_dict(typeA_best_model_wts)"
   ]
  },
  {
   "cell_type": "code",
   "execution_count": 14,
   "metadata": {},
   "outputs": [
    {
     "data": {
      "image/png": "[encoded data removed]",
      "text/plain": [
       "<Figure size 432x288 with 1 Axes>"
      ]
     },
     "metadata": {
      "needs_background": "light"
     },
     "output_type": "display_data"
    }
   ],
   "source": [
    "plt.plot(typeA_loss_list)\n",
    "plt.xlabel('Epoch')\n",
    "plt.ylabel('Loss')\n",
    "plt.title('Training Loss')\n",
    "plt.show()"
   ]
  },
  {
   "cell_type": "code",
   "execution_count": 15,
   "metadata": {},
   "outputs": [],
   "source": [
    "model_typeTO = MLP_typeTO(2876,3).to(DEVICE)\n",
    "loss_func = nn.CrossEntropyLoss(weight=class_weights).to(DEVICE)\n",
    "optimizer = optim.Adam(model_typeTO.parameters(), lr=0.001,weight_decay=0)"
   ]
  },
  {
   "cell_type": "code",
   "execution_count": 16,
   "metadata": {},
   "outputs": [
    {
     "name": "stdout",
     "output_type": "stream",
     "text": [
      "EPOCH[0] - train Loss: 0.0253, Accuracy: 72.0736%\n",
      "EPOCH[1] - train Loss: 0.0187, Accuracy: 77.2575%\n",
      "EPOCH[2] - train Loss: 0.0150, Accuracy: 81.6054%\n",
      "EPOCH[3] - train Loss: 0.0143, Accuracy: 79.7659%\n",
      "EPOCH[4] - train Loss: 0.0103, Accuracy: 84.2809%\n",
      "EPOCH[5] - train Loss: 0.0079, Accuracy: 89.1304%\n",
      "EPOCH[6] - train Loss: 0.0085, Accuracy: 89.7993%\n",
      "EPOCH[7] - train Loss: 0.0049, Accuracy: 92.6421%\n",
      "EPOCH[8] - train Loss: 0.0050, Accuracy: 94.1472%\n",
      "EPOCH[9] - train Loss: 0.0064, Accuracy: 92.6421%\n",
      "EPOCH[10] - train Loss: 0.0045, Accuracy: 93.3110%\n",
      "EPOCH[11] - train Loss: 0.0020, Accuracy: 96.4883%\n",
      "EPOCH[12] - train Loss: 0.0066, Accuracy: 92.4749%\n",
      "EPOCH[13] - train Loss: 0.0041, Accuracy: 93.9799%\n",
      "EPOCH[14] - train Loss: 0.0030, Accuracy: 95.4849%\n",
      "EPOCH[15] - train Loss: 0.0055, Accuracy: 94.4816%\n",
      "EPOCH[16] - train Loss: 0.0015, Accuracy: 97.8261%\n",
      "EPOCH[17] - train Loss: 0.0080, Accuracy: 91.6388%\n",
      "EPOCH[18] - train Loss: 0.0044, Accuracy: 94.1472%\n",
      "EPOCH[19] - train Loss: 0.0015, Accuracy: 96.3211%\n",
      "EPOCH[20] - train Loss: 0.0006, Accuracy: 99.1639%\n",
      "EPOCH[21] - train Loss: 0.0011, Accuracy: 98.1605%\n",
      "EPOCH[22] - train Loss: 0.0004, Accuracy: 99.4983%\n",
      "EPOCH[23] - train Loss: 0.0008, Accuracy: 98.6622%\n",
      "EPOCH[24] - train Loss: 0.0021, Accuracy: 99.3311%\n",
      "EPOCH[25] - train Loss: 0.0006, Accuracy: 99.1639%\n",
      "EPOCH[26] - train Loss: 0.0003, Accuracy: 99.8328%\n",
      "EPOCH[27] - train Loss: 0.0001, Accuracy: 100.0000%\n",
      "EPOCH[28] - train Loss: 0.0001, Accuracy: 100.0000%\n",
      "EPOCH[29] - train Loss: 0.0002, Accuracy: 99.8328%\n"
     ]
    },
    {
     "data": {
      "text/plain": [
       "<All keys matched successfully>"
      ]
     },
     "execution_count": 16,
     "metadata": {},
     "output_type": "execute_result"
    }
   ],
   "source": [
    "typeTO_loss_list = []\n",
    "typeTO_best_acc = 0.0  \n",
    "typeTO_best_model_wts = copy.deepcopy(model_typeTO.state_dict()) \n",
    "\n",
    "for epoch in range(30):\n",
    "    train(model_typeTO, train_typeTO_loader)\n",
    "    \n",
    "    train_loss, train_acc = evaluate(model_typeTO,train_typeTO_loader)\n",
    "    typeTO_loss_list.append(train_loss)    \n",
    "    \n",
    "    if train_acc >= typeTO_best_acc: \n",
    "            typeTO_best_acc = train_acc \n",
    "            typeTO_best_model_wts = copy.deepcopy(model_typeTO.state_dict())\n",
    "    \n",
    "    print('EPOCH[{:d}] - train Loss: {:.4f}, Accuracy: {:.4f}%'.format(epoch, train_loss, train_acc)) \n",
    "    \n",
    "model_typeTO.load_state_dict(typeTO_best_model_wts)"
   ]
  },
  {
   "cell_type": "code",
   "execution_count": 17,
   "metadata": {},
   "outputs": [
    {
     "data": {
      "image/png": "[encoded data removed]",
      "text/plain": [
       "<Figure size 432x288 with 1 Axes>"
      ]
     },
     "metadata": {
      "needs_background": "light"
     },
     "output_type": "display_data"
    }
   ],
   "source": [
    "plt.plot(typeTO_loss_list)\n",
    "plt.xlabel('Epoch')\n",
    "plt.ylabel('Loss')\n",
    "plt.title('Training Loss')\n",
    "plt.show()"
   ]
  },
  {
   "cell_type": "code",
   "execution_count": 18,
   "metadata": {},
   "outputs": [],
   "source": [
    "predictions = []\n",
    "for data in test_loader:\n",
    "    data = data.to(DEVICE)\n",
    "    product_code = data[:, 0]\n",
    "    if product_code == 0:\n",
    "        output = model_typeA(data)\n",
    "        #print(\"model_A\")\n",
    "    else:\n",
    "        output = model_typeTO(data)\n",
    "        #print(\"model_TO\")\n",
    "    \n",
    "    pred = torch.exp(output)\n",
    "    _, pred = pred.topk(1, dim=1)\n",
    "    predictions.append(pred.item())\n",
    "        \n",
    "    "
   ]
  },
  {
   "cell_type": "code",
   "execution_count": 19,
   "metadata": {},
   "outputs": [
    {
     "name": "stdout",
     "output_type": "stream",
     "text": [
      "[1, 1, 1, 0, 0, 1, 1, 0, 0, 1, 1, 1, 1, 0, 0, 1, 1, 2, 2, 2, 1, 0, 1, 1, 1, 2, 2, 1, 1, 1, 1, 2, 2, 2, 1, 0, 1, 0, 1, 0, 0, 0, 0, 0, 0, 2, 2, 0, 2, 0, 1, 1, 0, 0, 0, 1, 2, 2, 0, 1, 1, 2, 0, 1, 0, 0, 0, 2, 1, 2, 2, 0, 0, 1, 2, 2, 1, 2, 2, 0, 1, 2, 1, 1, 2, 2, 0, 1, 0, 0, 1, 2, 1, 1, 1, 1, 2, 2, 1, 2, 2, 2, 1, 1, 2, 1, 1, 2, 1, 0, 1, 1, 1, 1, 1, 1, 0, 1, 1, 1, 1, 1, 1, 1, 1, 1, 1, 1, 0, 1, 1, 0, 1, 1, 1, 1, 1, 1, 2, 1, 1, 0, 0, 1, 1, 1, 1, 2, 1, 1, 1, 2, 2, 1, 1, 1, 1, 1, 0, 2, 1, 2, 1, 1, 1, 1, 1, 1, 1, 1, 1, 1, 1, 1, 1, 1, 1, 1, 1, 1, 2, 1, 2, 1, 1, 1, 1, 1, 1, 1, 1, 1, 1, 1, 1, 1, 1, 1, 1, 1, 2, 1, 1, 1, 1, 1, 2, 1, 1, 1, 1, 1, 1, 1, 1, 1, 2, 1, 1, 1, 1, 1, 1, 2, 1, 1, 1, 1, 1, 1, 1, 1, 1, 1, 1, 1, 1, 1, 1, 1, 1, 1, 1, 1, 1, 1, 1, 1, 0, 0, 0, 1, 1, 0, 0, 0, 1, 1, 1, 1, 1, 1, 1, 0, 1, 1, 1, 1, 1, 2, 2, 1, 1, 1, 1, 0, 1, 1, 1, 2, 1, 0, 1, 1, 1, 1, 1, 1, 1, 1, 1, 2, 1, 0, 1, 1, 1, 1, 1, 1, 1, 1, 1, 0, 2, 1, 1, 2, 2, 1]\n",
      "310\n",
      "class_0:  49\n",
      "class_1:  210\n",
      "class_2:  51\n"
     ]
    }
   ],
   "source": [
    "print(predictions)\n",
    "print(len(predictions))\n",
    "print(\"class_0: \" , predictions.count(0))\n",
    "print(\"class_1: \" , predictions.count(1))\n",
    "print(\"class_2: \" , predictions.count(2))"
   ]
  },
  {
   "cell_type": "code",
   "execution_count": 20,
   "metadata": {},
   "outputs": [],
   "source": [
    "submit = pd.read_csv('./sample_submission.csv')\n",
    "submit['Y_Class'] = predictions\n",
    "submit.to_csv('layer3(512,32)_w(1_4_1.1)_drop(0.2)_selu(49,210,51).csv', index=False)"
   ]
  },
  {
   "cell_type": "code",
   "execution_count": null,
   "metadata": {},
   "outputs": [],
   "source": []
  }
 ],
 "metadata": {
  "kernelspec": {
   "display_name": "base",
   "language": "python",
   "name": "python3"
  },
  "language_info": {
   "codemirror_mode": {
    "name": "ipython",
    "version": 3
   },
   "file_extension": ".py",
   "mimetype": "text/x-python",
   "name": "python",
   "nbconvert_exporter": "python",
   "pygments_lexer": "ipython3",
   "version": "3.8.5"
  },
  "orig_nbformat": 4,
  "vscode": {
   "interpreter": {
    "hash": "2356e43c43ecac1baee1a0eb34b5c254a3f87ed4359e6f3761b66aa12c9e45f3"
   }
  }
 },
 "nbformat": 4,
 "nbformat_minor": 2
}
