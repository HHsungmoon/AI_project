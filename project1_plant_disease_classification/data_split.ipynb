{
 "cells": [
  {
   "cell_type": "code",
   "execution_count": 1,
   "metadata": {},
   "outputs": [],
   "source": [
    "import os\n",
    "import shutil\n",
    "import math"
   ]
  },
  {
   "cell_type": "code",
   "execution_count": 2,
   "metadata": {},
   "outputs": [
    {
     "data": {
      "text/plain": [
       "'\\n기존 데이터를 분할해야 된다.\\n\\nsplited 폴더를 만들고 다시 train, validation, test 폴더를 만든다. 비율 6:2:2\\n각 폴더 내부에는 dataset에 담겨 있는 형식 그대로 나눈다. \\n'"
      ]
     },
     "execution_count": 2,
     "metadata": {},
     "output_type": "execute_result"
    }
   ],
   "source": [
    "\"\"\"\n",
    "기존 데이터를 분할해야 된다.\n",
    "\n",
    "splited 폴더를 만들고 다시 train, validation, test 폴더를 만든다. 비율 6:2:2\n",
    "각 폴더 내부에는 dataset에 담겨 있는 형식 그대로 나눈다. \n",
    "\"\"\""
   ]
  },
  {
   "cell_type": "code",
   "execution_count": 3,
   "metadata": {},
   "outputs": [],
   "source": [
    "# 폴더 생성 코드"
   ]
  },
  {
   "cell_type": "code",
   "execution_count": 4,
   "metadata": {},
   "outputs": [],
   "source": [
    "original_dataset_dir = './dataset/'\n",
    "classes_list = os.listdir(original_dataset_dir)\n",
    "\n",
    "base_dir = './splited//'\n",
    "os.mkdir(base_dir)\n",
    "\n",
    "train_dir = os.path.join(base_dir, 'train')\n",
    "os.mkdir(train_dir)\n",
    "validation_dir = os.path.join(base_dir, 'val')\n",
    "os.mkdir(validation_dir)\n",
    "test_dir = os.path.join(base_dir, 'test')\n",
    "os.mkdir(test_dir)\n",
    "\n",
    "for clss in classes_list:\n",
    "    os.mkdir(os.path.join(train_dir, clss))\n",
    "    os.mkdir(os.path.join(validation_dir, clss))\n",
    "    os.mkdir(os.path.join(test_dir, clss))"
   ]
  },
  {
   "cell_type": "code",
   "execution_count": 5,
   "metadata": {},
   "outputs": [],
   "source": [
    "# 데이터 분할 코드"
   ]
  },
  {
   "cell_type": "code",
   "execution_count": 6,
   "metadata": {},
   "outputs": [],
   "source": [
    "for clss in classes_list:\n",
    "    path = os.path.join(original_dataset_dir, clss)\n",
    "    fnames = os.listdir(path)\n",
    "    # print(fnames[:5]) break  -> 출력해서 확인\n",
    "    \n",
    "    train_size = math.floor(len(fnames) * 0.6)\n",
    "    validation_size = math.floor(len(fnames) * 0.2)\n",
    "    test_size = math.floor(len(fnames) * 0.2)\n",
    "    #print('train size : ', train_size)\n",
    "    #print('validation_size : ', validation_size)\n",
    "    #print('test_size : ', test_size)\n",
    "    \n",
    "    train_fnames = fnames[:train_size]\n",
    "    for fname in train_fnames:\n",
    "        src = os.path.join(path, fname)  # 원본 파일 경로\n",
    "        dst = os.path.join(os.path.join(train_dir, clss), fname) # 저장할 파일 경로\n",
    "        shutil.copyfile(src, dst)\n",
    "        \n",
    "    validation_fnames = fnames[train_size: (train_size+validation_size)]\n",
    "    for fname in validation_fnames:\n",
    "        src = os.path.join(path, fname)  # 원본 파일 경로\n",
    "        dst = os.path.join(os.path.join(validation_dir, clss), fname) # 저장할 파일 경로\n",
    "        shutil.copyfile(src, dst)\n",
    "\n",
    "    test_fnames = fnames[(train_size+validation_size):(train_size+validation_size+test_size)]\n",
    "    for fname in test_fnames:\n",
    "        src = os.path.join(path, fname)  # 원본 파일 경로\n",
    "        dst = os.path.join(os.path.join(test_dir, clss), fname) # 저장할 파일 경로\n",
    "        shutil.copyfile(src, dst)\n",
    "    "
   ]
  },
  {
   "cell_type": "code",
   "execution_count": null,
   "metadata": {},
   "outputs": [],
   "source": []
  }
 ],
 "metadata": {
  "kernelspec": {
   "display_name": "Python 3",
   "language": "python",
   "name": "python3"
  },
  "language_info": {
   "codemirror_mode": {
    "name": "ipython",
    "version": 3
   },
   "file_extension": ".py",
   "mimetype": "text/x-python",
   "name": "python",
   "nbconvert_exporter": "python",
   "pygments_lexer": "ipython3",
   "version": "3.8.5"
  }
 },
 "nbformat": 4,
 "nbformat_minor": 4
}
